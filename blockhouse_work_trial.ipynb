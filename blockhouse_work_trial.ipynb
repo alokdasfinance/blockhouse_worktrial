{
  "nbformat": 4,
  "nbformat_minor": 0,
  "metadata": {
    "colab": {
      "provenance": [],
      "authorship_tag": "ABX9TyMnHmAZmnRnu2ODd8ryG77+",
      "include_colab_link": true
    },
    "kernelspec": {
      "name": "python3",
      "display_name": "Python 3"
    },
    "language_info": {
      "name": "python"
    }
  },
  "cells": [
    {
      "cell_type": "markdown",
      "metadata": {
        "id": "view-in-github",
        "colab_type": "text"
      },
      "source": [
        "<a href=\"https://colab.research.google.com/github/alokdasfinance/blockhouse_worktrial/blob/main/blockhouse_work_trial.ipynb\" target=\"_parent\"><img src=\"https://colab.research.google.com/assets/colab-badge.svg\" alt=\"Open In Colab\"/></a>"
      ]
    },
    {
      "cell_type": "markdown",
      "source": [
        "### Measuring and Modeling Execution Cost and Risk(paper #1)"
      ],
      "metadata": {
        "id": "6xCJU3SX0uza"
      }
    },
    {
      "cell_type": "code",
      "source": [
        "import numpy as np\n",
        "\n",
        "def calculate_transaction_cost(p_t, arrival_p_t, delta_x_t, x_t, delta_p_t):\n",
        "    \"\"\"\n",
        "    p_t = Actual transaction prices at each time t\n",
        "    arrival_p_t = Local arrival prices at each time t\n",
        "    delta_x_t = Changes in the number of shares transacted at each time t\n",
        "    x_t = Total number of shares at each time t\n",
        "    delta_p_t = Changes in prices between transactions at each time t\n",
        "    \"\"\"\n",
        "\n",
        "    return np.sum(delta_x_t * (arrival_p_t - p_t)) + np.sum(np.diff(x_t, prepend=x_t[0]) * delta_p_t)"
      ],
      "metadata": {
        "id": "62hGR1qw0ypv"
      },
      "execution_count": null,
      "outputs": []
    },
    {
      "cell_type": "markdown",
      "source": [
        "### Determinants of the Execution Costs of Common Stock Trades by Individual Investors(paper #2)"
      ],
      "metadata": {
        "id": "stER4OQgk_k_"
      }
    },
    {
      "cell_type": "code",
      "source": [
        "import numpy as np\n",
        "\n",
        "def calculate_transaction_cost(e_p, d_high, d_low):\n",
        "    \"\"\"\n",
        "    e_p = Recorded execution price\n",
        "    d_high = Day's high price\n",
        "    d_low = Day's low price\n",
        "    \"\"\"\n",
        "\n",
        "    return 100 * ((e_p / ((d_high + d_low) / 2)) - 1)"
      ],
      "metadata": {
        "id": "3ErQRQg4lKxJ"
      },
      "execution_count": null,
      "outputs": []
    }
  ]
}